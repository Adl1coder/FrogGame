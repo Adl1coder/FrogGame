{
  "nbformat": 4,
  "nbformat_minor": 0,
  "metadata": {
    "colab": {
      "provenance": [],
      "authorship_tag": "ABX9TyM9H6cykXDxqcrHTXcrv2jI",
      "include_colab_link": true
    },
    "kernelspec": {
      "name": "python3",
      "display_name": "Python 3"
    },
    "language_info": {
      "name": "python"
    }
  },
  "cells": [
    {
      "cell_type": "markdown",
      "metadata": {
        "id": "view-in-github",
        "colab_type": "text"
      },
      "source": [
        "<a href=\"https://colab.research.google.com/github/Adl1coder/FrogGame/blob/main/FrogGame.ipynb\" target=\"_parent\"><img src=\"https://colab.research.google.com/assets/colab-badge.svg\" alt=\"Open In Colab\"/></a>"
      ]
    },
    {
      "cell_type": "code",
      "source": [
        "pozisyonlar = ['B', 'B', 'B', '-', 'G', 'G', 'G']\n",
        "print(\"[0  ,   1,   2,   3,   4,   5,   6]\")\n",
        "print(pozisyonlar)\n",
        "baslangic_pozisyonu = pozisyonlar.copy()\n",
        "while True:\n",
        "\n",
        "    print(\"\\nHer zaman 7'den küçük bir sayı girin\")\n",
        "    print(\"[0  ,   1,   2,   3,   4,   5,   6]\")\n",
        "    print(baslangic_pozisyonu)\n",
        "    if baslangic_pozisyonu == pozisyonlar[::-1]:\n",
        "        print(\"\\n KAZANDINIZ\")\n",
        "        break\n",
        "    pos1 = input(\"Çıkmak için q'ya basın veya \\nTaşın pozisyonunu girin: \")\n",
        "    print(\"pos=\", pos1)\n",
        "    if pos1.lower() == 'q':\n",
        "        print(\"\\nKaybettiniz\")\n",
        "        break\n",
        "    pos = int(pos1)\n",
        "    if pos < 0 or pos > 6:\n",
        "        print(\"\\n Geçersiz Hamle\")\n",
        "        break\n",
        "    if baslangic_pozisyonu[pos] == '-':\n",
        "        print(\"\\nGeçersiz Hamle\")\n",
        "        break\n",
        "    pos2 = 0\n",
        "    for i in range(len(pozisyonlar)):\n",
        "        if baslangic_pozisyonu[i] == '-':\n",
        "            pos2 = i\n",
        "            print(\"pos2=\", pos2)\n",
        "            break\n",
        "    if baslangic_pozisyonu[pos] == 'B':\n",
        "        if (pos + 1) <= 6 or (pos2 + 1) <= 6:\n",
        "            print(\"\\n Geçerli bir hamle\")\n",
        "            baslangic_pozisyonu[pos], baslangic_pozisyonu[pos2] = baslangic_pozisyonu[pos2], baslangic_pozisyonu[pos]\n",
        "            pos = pos2\n",
        "            continue\n",
        "        elif (pos + 2) <= 6 or (pos + 2) <= 6:\n",
        "            print(\"\\n Geçerli bir hamle\")\n",
        "            baslangic_pozisyonu[pos], baslangic_pozisyonu[pos2] = baslangic_pozisyonu[pos2], baslangic_pozisyonu[pos]\n",
        "            pos = pos2\n",
        "            continue\n",
        "        else:\n",
        "            print(\"\\n geçersiz bir hamle\")\n",
        "            break\n",
        "    if baslangic_pozisyonu[pos] == 'G':\n",
        "        if (pos - 1) >= 0 or (pos2 - 1) >= 0:\n",
        "            print(\"\\n Geçerli bir hamle\")\n",
        "            baslangic_pozisyonu[pos], baslangic_pozisyonu[pos2] = baslangic_pozisyonu[pos2], baslangic_pozisyonu[pos]\n",
        "            pos = pos2\n",
        "            continue\n",
        "        elif (pos - 2) >= 0 or (pos2 - 2) >= 0:\n",
        "            print(\"\\n Geçerli bir hamle\")\n",
        "            baslangic_pozisyonu[pos], baslangic_pozisyonu[pos2] = baslangic_pozisyonu[pos2], baslangic_pozisyonu[pos]\n",
        "            pos = pos2\n",
        "            continue\n",
        "        else:\n",
        "            print(\"\\n geçersiz bir hamle\")\n",
        "            break\n"
      ],
      "metadata": {
        "colab": {
          "base_uri": "https://localhost:8080/"
        },
        "id": "jvWwcxI-diW7",
        "outputId": "2ce932ff-eb96-4a4b-bbe9-e38edcdfd3d1"
      },
      "execution_count": null,
      "outputs": [
        {
          "output_type": "stream",
          "name": "stdout",
          "text": [
            "[0  ,   1,   2,   3,   4,   5,   6]\n",
            "['B', 'B', 'B', '-', 'G', 'G', 'G']\n",
            "\n",
            "Her zaman 7'den küçük bir sayı girin\n",
            "[0  ,   1,   2,   3,   4,   5,   6]\n",
            "['B', 'B', 'B', '-', 'G', 'G', 'G']\n",
            "Çıkmak için q'ya basın veya \n",
            "Taşın pozisyonunu girin: 4\n",
            "pos= 4\n",
            "pos2= 3\n",
            "\n",
            " Geçerli bir hamle\n",
            "\n",
            "Her zaman 7'den küçük bir sayı girin\n",
            "[0  ,   1,   2,   3,   4,   5,   6]\n",
            "['B', 'B', 'B', 'G', '-', 'G', 'G']\n"
          ]
        }
      ]
    }
  ]
}